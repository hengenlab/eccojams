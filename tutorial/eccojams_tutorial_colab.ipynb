{
 "cells": [
  {
   "cell_type": "markdown",
   "metadata": {},
   "source": [
    "<a href=\"https://colab.research.google.com/github/hengenlab/eccojams/blob/master/tutorial/eccojams_tutorial_colab.ipynb\">\n",
    "  <img src=\"https://colab.research.google.com/assets/colab-badge.svg\" alt=\"Open In Colab\"/>\n",
    "</a>"
   ]
  },
  {
   "cell_type": "code",
   "execution_count": null,
   "metadata": {},
   "outputs": [],
   "source": [
    "#setup for Google Colab\n",
    "\n",
    "!pip install git+https://github.com/hengenlab/neuraltoolkit.git\n",
    "!pip install git+https://github.com/hengenlab/musclebeachtools_hlab.git\n",
    "!git clone https://github.com/hengenlab/eccojams.git\n",
    "\n",
    "!pip install /content/eccojams/.\n",
    "!unzip /content/eccojams/tutorial/example_data/example_data.zip -d /content/eccojams/tutorial/example_data/\n",
    "%cd /content/eccojams/tutorial/"
   ]
  },
  {
   "cell_type": "code",
   "execution_count": null,
   "metadata": {
    "tags": []
   },
   "outputs": [],
   "source": [
    "import musclebeachtools as mbt\n",
    "import numpy as np\n",
    "import matplotlib.pyplot as plt\n",
    "import os, glob\n",
    "import pandas as pd\n",
    "import eccojams as eco"
   ]
  },
  {
   "cell_type": "markdown",
   "metadata": {},
   "source": [
    "<img src=\"../eccojams_text_logo.png\" style=\"width:700px;height:209px;margin-left:auto;margin-right:auto;\"/>"
   ]
  },
  {
   "cell_type": "markdown",
   "metadata": {},
   "source": [
    "<div style=\"background-color:lightblue;color:black;padding:20px;font-family:verdana;\">\n",
    "  <p>In this notebook I'll introduce you to some common usages of the key functions in <i>Eccojams</i>.</p>\n",
    "  <p>A typical use case would be to employ these functions for processing and analysis of neuron class object data as produced with the <i>musclebeachtools</i> package (<a href=\"https://github.com/hengenlab/musclebeachtools_hlab\">see here</a>).</p>\n",
    "   <p>I've also included some example data in the same folder as this notebook.</p>\n",
    "</div> "
   ]
  },
  {
   "cell_type": "markdown",
   "metadata": {},
   "source": [
    "<h2 style=\"font-family:verdana\">Load data from numpy file.</h2>"
   ]
  },
  {
   "cell_type": "code",
   "execution_count": null,
   "metadata": {},
   "outputs": [],
   "source": [
    "neurons = np.load('example_data/example_singleunits.npy',allow_pickle=True)"
   ]
  },
  {
   "cell_type": "code",
   "execution_count": null,
   "metadata": {},
   "outputs": [],
   "source": [
    "eco.nrnlistinfo(neurons)"
   ]
  },
  {
   "cell_type": "markdown",
   "metadata": {},
   "source": [
    "<h2 style=\"font-family:verdana;\">Subset neuron list by different criteria.</h2>"
   ]
  },
  {
   "cell_type": "code",
   "execution_count": null,
   "metadata": {},
   "outputs": [],
   "source": [
    "nrns_q1 = eco.nrnlist_by_quality(neurons,[1])"
   ]
  },
  {
   "cell_type": "code",
   "execution_count": null,
   "metadata": {},
   "outputs": [],
   "source": [
    "nrns_ca1 = eco.nrnlist_by_region(neurons,'CA1')"
   ]
  },
  {
   "cell_type": "code",
   "execution_count": null,
   "metadata": {},
   "outputs": [],
   "source": [
    "nrns_caf82 = eco.nrnlist_by_animal(neurons,'CA1')"
   ]
  },
  {
   "cell_type": "code",
   "execution_count": null,
   "metadata": {},
   "outputs": [],
   "source": [
    "nrns_wt = eco.nrnlist_by_genotype(neurons,'WT')"
   ]
  },
  {
   "cell_type": "code",
   "execution_count": null,
   "metadata": {},
   "outputs": [],
   "source": [
    "nrns_ca1_rsu = eco.nrnlist_by_celltype(nrns_ca1,'RSU')"
   ]
  },
  {
   "cell_type": "markdown",
   "metadata": {},
   "source": [
    "<h2 style=\"font-family:verdana\">Check quality statistics for all neurons in list.</h2>"
   ]
  },
  {
   "cell_type": "code",
   "execution_count": null,
   "metadata": {},
   "outputs": [],
   "source": [
    "eco.check_wfs(nrns_ca1_rsu)"
   ]
  },
  {
   "cell_type": "code",
   "execution_count": null,
   "metadata": {},
   "outputs": [],
   "source": [
    "eco.check_isi(nrns_ca1_rsu)"
   ]
  },
  {
   "cell_type": "code",
   "execution_count": null,
   "metadata": {},
   "outputs": [],
   "source": [
    "eco.check_continuity(nrns_ca1_rsu)"
   ]
  },
  {
   "cell_type": "markdown",
   "metadata": {},
   "source": [
    "<h2 style=\"font-family:verdana\">Plot activity of selected neurons.</h2>"
   ]
  },
  {
   "cell_type": "code",
   "execution_count": null,
   "metadata": {},
   "outputs": [],
   "source": [
    "eco.plot_raster(nrns_ca1_rsu,starttime=0,endtime=3.1)"
   ]
  },
  {
   "cell_type": "markdown",
   "metadata": {},
   "source": [
    "<h4 style=\"font-family:verdana\">Bin spike data.</h4>"
   ]
  },
  {
   "cell_type": "code",
   "execution_count": null,
   "metadata": {},
   "outputs": [],
   "source": [
    "nrn_binned = eco.bin_spikes(nrns_ca1_rsu, binsize=1)"
   ]
  },
  {
   "cell_type": "code",
   "execution_count": null,
   "metadata": {},
   "outputs": [],
   "source": [
    "plt.imshow(nrn_binned[:,:100])\n",
    "plt.xlabel('Time (s)')\n",
    "plt.ylabel('Neuron')\n",
    "plt.title('Single Unit Activity')\n",
    "plt.show()"
   ]
  },
  {
   "cell_type": "markdown",
   "metadata": {},
   "source": [
    "<h4 style=\"font-family:verdana\">Shuffle binned data.</h4>"
   ]
  },
  {
   "cell_type": "code",
   "execution_count": null,
   "metadata": {},
   "outputs": [],
   "source": [
    "eco.shuffle_binned_data?"
   ]
  },
  {
   "cell_type": "code",
   "execution_count": null,
   "metadata": {},
   "outputs": [],
   "source": [
    "nrns_shuffled = eco.shuffle_binned_data(nrn_binned,randmethod=5)"
   ]
  },
  {
   "cell_type": "code",
   "execution_count": null,
   "metadata": {},
   "outputs": [],
   "source": [
    "fig,ax = plt.subplots(nrows=2,ncols=1,sharex=True,figsize=(7,3))\n",
    "ax[0].imshow(nrn_binned[:,:100])\n",
    "ax[0].set_ylabel('Neuron')\n",
    "ax[0].set_title('Single Unit Activity')\n",
    "ax[1].imshow(nrns_shuffled[:,:100])\n",
    "ax[1].set_xlabel('Time (s)')\n",
    "ax[1].set_ylabel('Neuron')\n",
    "ax[1].set_title('Shuffled Activity')\n",
    "plt.tight_layout()\n",
    "plt.show()"
   ]
  },
  {
   "cell_type": "markdown",
   "metadata": {},
   "source": [
    "<h4 style=\"font-family:verdana\">Generate synthetic spike train.</h4>"
   ]
  },
  {
   "cell_type": "code",
   "execution_count": null,
   "metadata": {},
   "outputs": [],
   "source": [
    "from scipy.signal import square"
   ]
  },
  {
   "cell_type": "code",
   "execution_count": null,
   "metadata": {},
   "outputs": [],
   "source": [
    "prob_sin = np.sin(0.15*np.arange(1000))\n",
    "spikes_sin = eco.spiketrain_from_probability(prob_sin)"
   ]
  },
  {
   "cell_type": "code",
   "execution_count": null,
   "metadata": {},
   "outputs": [],
   "source": [
    "prob_square = square(np.arange(1000), duty=0.5)\n",
    "spikes_square = eco.spiketrain_from_probability(prob_square)"
   ]
  },
  {
   "cell_type": "code",
   "execution_count": null,
   "metadata": {},
   "outputs": [],
   "source": [
    "prob_complex = np.add(3*np.sin(0.05*np.arange(1000)),square(np.arange(1000), duty=0.5))\n",
    "spikes_complex = eco.spiketrain_from_probability(prob_complex)"
   ]
  },
  {
   "cell_type": "code",
   "execution_count": null,
   "metadata": {},
   "outputs": [],
   "source": [
    "fig, ax = plt.subplots(nrows=1,ncols=1,sharex=True,figsize=(8,3))\n",
    "ax.plot(prob_sin,color='red',alpha=0.5,label='Probability of Firing')\n",
    "ax.eventplot(spikes_sin,color='black',lineoffsets = -1.5, linelengths = 0.5, label='Synthetic Spikes')\n",
    "ax.set_xlim(0,250)\n",
    "plt.legend(loc='upper right')\n",
    "ax.set_xlabel('Time')\n",
    "ax.set_yticks([])\n",
    "ax.axis('off')\n",
    "plt.show()"
   ]
  },
  {
   "cell_type": "code",
   "execution_count": null,
   "metadata": {},
   "outputs": [],
   "source": [
    "fig, ax = plt.subplots(nrows=1,ncols=1,sharex=True,figsize=(8,3))\n",
    "ax.plot(prob_square,color='red',alpha=0.5,label='Probability of Firing')\n",
    "ax.eventplot(spikes_square,color='black',lineoffsets = -1.5, linelengths = 0.5, label='Synthetic Spikes')\n",
    "ax.set_xlim(0,100)\n",
    "plt.legend(loc='upper right')\n",
    "ax.set_xlabel('Time')\n",
    "ax.set_yticks([])\n",
    "ax.axis('off')\n",
    "plt.show()"
   ]
  },
  {
   "cell_type": "code",
   "execution_count": null,
   "metadata": {},
   "outputs": [],
   "source": [
    "fig, ax = plt.subplots(nrows=1,ncols=1,sharex=True,figsize=(8,3))\n",
    "ax.plot(prob_complex,color='red',alpha=0.5,label='Probability of Firing')\n",
    "ax.eventplot(spikes_complex,color='black',lineoffsets = -5, linelengths = 0.5, label='Synthetic Spikes')\n",
    "ax.set_xlim(0,250)\n",
    "plt.legend(loc='upper right')\n",
    "ax.set_xlabel('Time')\n",
    "ax.set_yticks([])\n",
    "ax.axis('off')\n",
    "plt.show()"
   ]
  },
  {
   "cell_type": "code",
   "execution_count": null,
   "metadata": {},
   "outputs": [],
   "source": []
  },
  {
   "cell_type": "markdown",
   "metadata": {},
   "source": [
    "<h2 style=\"font-family:verdana\">Load sleep and event data.</h2>"
   ]
  },
  {
   "cell_type": "markdown",
   "metadata": {},
   "source": [
    "<h4 style=\"font-family:verdana\">Dealing with lists of files.</4>"
   ]
  },
  {
   "cell_type": "code",
   "execution_count": null,
   "metadata": {},
   "outputs": [],
   "source": [
    "filelist = ['file1','file2','file10']"
   ]
  },
  {
   "cell_type": "code",
   "execution_count": null,
   "metadata": {},
   "outputs": [],
   "source": [
    "np.sort(filelist)"
   ]
  },
  {
   "cell_type": "code",
   "execution_count": null,
   "metadata": {},
   "outputs": [],
   "source": [
    "eco.natural_sort(filelist)"
   ]
  },
  {
   "cell_type": "code",
   "execution_count": null,
   "metadata": {},
   "outputs": [],
   "source": []
  },
  {
   "cell_type": "code",
   "execution_count": null,
   "metadata": {},
   "outputs": [],
   "source": [
    "rawfiles = eco.load_txt_as_list('example_data/files.txt')"
   ]
  },
  {
   "cell_type": "code",
   "execution_count": null,
   "metadata": {},
   "outputs": [],
   "source": [
    "rawfiles[:5]"
   ]
  },
  {
   "cell_type": "code",
   "execution_count": null,
   "metadata": {},
   "outputs": [],
   "source": [
    "file1 = rawfiles[1]\n",
    "file2 = rawfiles[2]\n",
    "print(file1)\n",
    "print(file2)"
   ]
  },
  {
   "cell_type": "code",
   "execution_count": null,
   "metadata": {},
   "outputs": [],
   "source": [
    "timestamp1 = eco.binfile_to_timestamp(file1)\n",
    "timestamp2 = eco.binfile_to_timestamp(file2)\n",
    "print(timestamp1)\n",
    "print(timestamp2)"
   ]
  },
  {
   "cell_type": "code",
   "execution_count": null,
   "metadata": {},
   "outputs": [],
   "source": [
    "eco.dtify(timestamp1)"
   ]
  },
  {
   "cell_type": "code",
   "execution_count": null,
   "metadata": {},
   "outputs": [],
   "source": []
  },
  {
   "cell_type": "markdown",
   "metadata": {},
   "source": [
    "<i><b>How many seconds elapsed between the files?</b></i>"
   ]
  },
  {
   "cell_type": "code",
   "execution_count": null,
   "metadata": {},
   "outputs": [],
   "source": [
    "(eco.dtify(timestamp2) - eco.dtify(timestamp1)).seconds"
   ]
  },
  {
   "cell_type": "code",
   "execution_count": null,
   "metadata": {},
   "outputs": [],
   "source": []
  },
  {
   "cell_type": "markdown",
   "metadata": {},
   "source": [
    "<h4 style=\"font-family:verdana\">Working with sleep states.</4>"
   ]
  },
  {
   "cell_type": "code",
   "execution_count": null,
   "metadata": {},
   "outputs": [],
   "source": [
    "sleepfiles = glob.glob('example_data/*sleep.npy')"
   ]
  },
  {
   "cell_type": "code",
   "execution_count": null,
   "metadata": {},
   "outputs": [],
   "source": [
    "sleepdf = eco.return_sleepdf(sleepfiles)"
   ]
  },
  {
   "cell_type": "code",
   "execution_count": null,
   "metadata": {},
   "outputs": [],
   "source": [
    "sleepdf.head()"
   ]
  },
  {
   "cell_type": "code",
   "execution_count": null,
   "metadata": {},
   "outputs": [],
   "source": []
  },
  {
   "cell_type": "markdown",
   "metadata": {},
   "source": [
    "<h4 style=\"font-family:verdana\">Load event times (e.g. sharp wave ripples).</4>"
   ]
  },
  {
   "cell_type": "code",
   "execution_count": null,
   "metadata": {},
   "outputs": [],
   "source": [
    "ripple_csv = glob.glob('example_data/ripple*.csv')[0]\n",
    "rippledf = eco.get_riptimes(ripple_csv, peakdist = 0.1, ampthresh = 50)"
   ]
  },
  {
   "cell_type": "code",
   "execution_count": null,
   "metadata": {},
   "outputs": [],
   "source": [
    "rippledf.head()"
   ]
  },
  {
   "cell_type": "markdown",
   "metadata": {},
   "source": [
    "<h4 style=\"font-family:verdana\">Select event times that occur within a single sleep state.</h4>"
   ]
  },
  {
   "cell_type": "code",
   "execution_count": null,
   "metadata": {},
   "outputs": [],
   "source": [
    "ripples_nrem = eco.riptimes_by_state(rippledf, sleepdf, 'nrem')"
   ]
  },
  {
   "cell_type": "code",
   "execution_count": null,
   "metadata": {},
   "outputs": [],
   "source": [
    "len(rippledf), len(ripples_nrem)"
   ]
  },
  {
   "cell_type": "code",
   "execution_count": null,
   "metadata": {},
   "outputs": [],
   "source": []
  },
  {
   "cell_type": "markdown",
   "metadata": {},
   "source": [
    "<h2 style=\"font-family:verdana\">Align and analyze spike data around events.</h2>"
   ]
  },
  {
   "cell_type": "markdown",
   "metadata": {},
   "source": [
    "<h4 style=\"font-family:verdana\">Set binsize and peri-event window size.  Define plotting function. </h4>"
   ]
  },
  {
   "cell_type": "code",
   "execution_count": null,
   "metadata": {},
   "outputs": [],
   "source": [
    "binsize=0.001\n",
    "peri_rip_time = 0.5\n",
    "\n",
    "def plot_peth(pethdat,peri_rip_time):\n",
    "    fig,ax = plt.subplots(nrows=1,ncols=1,figsize=(5,2))\n",
    "    for i in np.arange(pethdat.shape[0]):\n",
    "        ax.plot(pethdat[i,:])\n",
    "        \n",
    "    xticklabs = np.round(np.hstack([np.arange(-0.4,0,0.2),\n",
    "                                np.arange(0,0.41,0.2)]),2)\n",
    "    xtickpos = (xticklabs + peri_rip_time) * 1000\n",
    "    ax.set_xticks(xtickpos)\n",
    "    ax.set_xticklabels(xticklabs,rotation=0,fontsize=12)\n",
    "    ax.set_xlabel('Time from Event (s)',fontsize=14)"
   ]
  },
  {
   "cell_type": "markdown",
   "metadata": {},
   "source": [
    "<h4 style=\"font-family:verdana\">Align spikes around an event.</h4>"
   ]
  },
  {
   "cell_type": "code",
   "execution_count": null,
   "metadata": {},
   "outputs": [],
   "source": [
    "peth = eco.bin_and_align_spikes(nrns_ca1_rsu, ripples_nrem.peak_time[:100],\n",
    "                                   binsize, peri_rip_time)"
   ]
  },
  {
   "cell_type": "code",
   "execution_count": null,
   "metadata": {},
   "outputs": [],
   "source": [
    "plot_peth(np.mean(peth,axis=2),peri_rip_time)\n",
    "plt.title('CA1 Activity Around Ripples',fontsize=14)\n",
    "plt.show()"
   ]
  },
  {
   "cell_type": "markdown",
   "metadata": {},
   "source": [
    "<h4 style=\"font-family:verdana\">Gaussian smoothing of peri-event histograms.</h4>"
   ]
  },
  {
   "cell_type": "code",
   "execution_count": null,
   "metadata": {},
   "outputs": [],
   "source": [
    "peth_smoothed = eco.smooth_spikes(np.mean(peth,axis=2), binsize, sigma=0.005)"
   ]
  },
  {
   "cell_type": "code",
   "execution_count": null,
   "metadata": {},
   "outputs": [],
   "source": [
    "plot_peth(peth_smoothed,peri_rip_time)\n",
    "plt.title('Smoothed CA1 Activity Around Ripples',fontsize=14)\n",
    "plt.show()"
   ]
  },
  {
   "cell_type": "markdown",
   "metadata": {},
   "source": [
    "<h4 style=\"font-family:verdana\">Z score activity in peri-event histograms.</h4>"
   ]
  },
  {
   "cell_type": "code",
   "execution_count": null,
   "metadata": {},
   "outputs": [],
   "source": [
    "baseline = int((20/1e3)/ binsize) #use 20 ms of each flank as baseline\n",
    "peth_z = eco.zscore_to_flank(peth_smoothed, baseline_length = baseline)"
   ]
  },
  {
   "cell_type": "code",
   "execution_count": null,
   "metadata": {},
   "outputs": [],
   "source": [
    "plot_peth(peth_z,peri_rip_time)\n",
    "plt.title('Z Scored Activity Around Ripples',fontsize=14)\n",
    "plt.show()"
   ]
  },
  {
   "cell_type": "code",
   "execution_count": null,
   "metadata": {},
   "outputs": [],
   "source": []
  },
  {
   "cell_type": "markdown",
   "metadata": {},
   "source": [
    "<h2 style=\"font-family:verdana\">Examine population statistics in spike data.</h2>"
   ]
  },
  {
   "cell_type": "markdown",
   "metadata": {},
   "source": [
    "<h4 style=\"font-family:verdana\">Cross-correlogram between neuron pairs.</h4>"
   ]
  },
  {
   "cell_type": "code",
   "execution_count": null,
   "metadata": {},
   "outputs": [],
   "source": [
    "eco.ccg_pair(nrns_ca1_rsu[8],nrns_ca1_rsu[7])"
   ]
  },
  {
   "cell_type": "markdown",
   "metadata": {},
   "source": [
    "<h4 style=\"font-family:verdana\">Cross-correlogram between spike trains.</h4>"
   ]
  },
  {
   "cell_type": "code",
   "execution_count": null,
   "metadata": {},
   "outputs": [],
   "source": [
    "lag = 0.02\n",
    "spikes_zerolag = eco.generate_random_spikes(nspikes=500, tspan=10, poisson_prob=1)\n",
    "spikes_lagged = eco.shuffle_spikes(spikes_zerolag + lag, jitter_size=3) #jitter the spikes a little"
   ]
  },
  {
   "cell_type": "code",
   "execution_count": null,
   "metadata": {},
   "outputs": [],
   "source": [
    "fig,ax = plt.subplots(figsize=(5,2))\n",
    "ax.eventplot(spikes_zerolag,color='black',lineoffset=1,linelength=0.5)\n",
    "ax.eventplot(spikes_lagged,color='red',lineoffset=0.5,linelength=0.5)\n",
    "ax.set_ylim(0,1.5)\n",
    "ax.set_xlim(0,1)\n",
    "ax.axis('off')\n",
    "plt.show()"
   ]
  },
  {
   "cell_type": "code",
   "execution_count": null,
   "metadata": {},
   "outputs": [],
   "source": [
    "eco.ccg_tseries(spikes_zerolag,spikes_lagged,dt=1e-3,tspan=0.05,nsegs=10000)"
   ]
  },
  {
   "cell_type": "code",
   "execution_count": null,
   "metadata": {},
   "outputs": [],
   "source": []
  },
  {
   "cell_type": "markdown",
   "metadata": {},
   "source": [
    "<h4 style=\"font-family:verdana\">Exploring low-dimensional structure, or \"manifolds\" if you dare...</h4>"
   ]
  },
  {
   "cell_type": "code",
   "execution_count": null,
   "metadata": {},
   "outputs": [],
   "source": [
    "transformed_pca, explvar = eco.pca_on_data(peth_z,scaling=1)"
   ]
  },
  {
   "cell_type": "markdown",
   "metadata": {},
   "source": [
    "<h5 style=\"font-family:verdana\">How many principal components are needed to reach 90% explained variance?</h5>"
   ]
  },
  {
   "cell_type": "code",
   "execution_count": null,
   "metadata": {},
   "outputs": [],
   "source": [
    "cumulative_explvar = np.cumsum(explvar)\n",
    "dimensionality = eco.calc_dim_from_curve(cumulative_explvar,maxval=1,target=0.9)\n",
    "print(dimensionality)"
   ]
  },
  {
   "cell_type": "code",
   "execution_count": null,
   "metadata": {},
   "outputs": [],
   "source": [
    "fig,ax = plt.subplots(nrows=1,ncols=1,figsize=(5,2))\n",
    "ax.plot(np.arange(1,11),cumulative_explvar,color='black')\n",
    "ax.axvline(dimensionality,color='red',linestyle='--')\n",
    "ax.axhline(0.9,color='grey',linestyle='--',alpha=0.2)\n",
    "ax.set_ylabel('% Variance Explained')\n",
    "ax.set_xlabel('Principal Component')\n",
    "plt.show()"
   ]
  },
  {
   "cell_type": "markdown",
   "metadata": {},
   "source": [
    "<h5 style=\"font-family:verdana\">PCA-transformed data</h5>"
   ]
  },
  {
   "cell_type": "code",
   "execution_count": null,
   "metadata": {},
   "outputs": [],
   "source": [
    "fig,ax = plt.subplots(nrows=1,ncols=3,figsize=(7,2))\n",
    "colors = np.linspace(0,1,1000)\n",
    "for c,comps in enumerate([(0,1),(1,2),(0,2)]):\n",
    "    ax[c].scatter(transformed_pca[:,comps[0]],transformed_pca[:,comps[1]],c=colors,s=1)\n",
    "    ax[c].set_xlabel(f'PC{comps[0]+1}')\n",
    "    ax[c].set_ylabel(f'PC{comps[1]+1}')\n",
    "    for frame in ['top','right','bottom','left']:\n",
    "        ax[c].spines[frame].set_visible(False)\n",
    "plt.tight_layout()\n",
    "plt.show()"
   ]
  },
  {
   "cell_type": "markdown",
   "metadata": {},
   "source": [
    "<h5 style=\"font-family:verdana\">Factor Analysis-transformed data</h5>"
   ]
  },
  {
   "cell_type": "code",
   "execution_count": null,
   "metadata": {},
   "outputs": [],
   "source": [
    "transformed_fa, explvar = eco.factoranalysis_on_data(peth_z,scaling=1)"
   ]
  },
  {
   "cell_type": "code",
   "execution_count": null,
   "metadata": {},
   "outputs": [],
   "source": [
    "fig,ax = plt.subplots(nrows=1,ncols=3,figsize=(7,2))\n",
    "colors = np.linspace(0,1,1000)\n",
    "for c,comps in enumerate([(0,1),(1,2),(0,2)]):\n",
    "    ax[c].scatter(transformed_fa[:,comps[0]],transformed_fa[:,comps[1]],c=colors,s=1)\n",
    "    ax[c].set_xlabel(f'Factor {comps[0]+1}')\n",
    "    ax[c].set_ylabel(f'Factor {comps[1]+1}')\n",
    "    for frame in ['top','right','bottom','left']:\n",
    "        ax[c].spines[frame].set_visible(False)\n",
    "plt.tight_layout()\n",
    "plt.show()"
   ]
  },
  {
   "cell_type": "markdown",
   "metadata": {},
   "source": [
    "<h5 style=\"font-family:verdana\">Isomap-transformed data</h5>"
   ]
  },
  {
   "cell_type": "code",
   "execution_count": null,
   "metadata": {},
   "outputs": [],
   "source": [
    "transformed_iso = eco.isomap_on_data(peth_z,scaling=1,n_comp=5)"
   ]
  },
  {
   "cell_type": "code",
   "execution_count": null,
   "metadata": {},
   "outputs": [],
   "source": [
    "fig,ax = plt.subplots(nrows=1,ncols=3,figsize=(7,2))\n",
    "colors = np.linspace(0,1,1000)\n",
    "for c,comps in enumerate([(0,1),(1,2),(0,2)]):\n",
    "    ax[c].scatter(transformed_iso[:,comps[0]],transformed_iso[:,comps[1]],c=colors,s=1)\n",
    "    ax[c].set_xlabel(f'C{comps[0]+1}')\n",
    "    ax[c].set_ylabel(f'C{comps[1]+1}')\n",
    "    for frame in ['top','right','bottom','left']:\n",
    "        ax[c].spines[frame].set_visible(False)\n",
    "plt.tight_layout()\n",
    "plt.show()"
   ]
  },
  {
   "cell_type": "code",
   "execution_count": null,
   "metadata": {},
   "outputs": [],
   "source": []
  },
  {
   "cell_type": "markdown",
   "metadata": {},
   "source": [
    "<h4 style=\"font-family:verdana\">Measure interactions between brain regions with Canonical Correlation Analysis.</h4>"
   ]
  },
  {
   "cell_type": "code",
   "execution_count": null,
   "metadata": {},
   "outputs": [],
   "source": [
    "nrn_ca1 = eco.bin_spikes(eco.nrnlist_by_region(neurons,'CA1'),binsize=1)\n",
    "nrn_rsc = eco.bin_spikes(eco.nrnlist_by_region(neurons,'RSC'),binsize=1)"
   ]
  },
  {
   "cell_type": "code",
   "execution_count": null,
   "metadata": {},
   "outputs": [],
   "source": [
    "X_c, Y_c = eco.cca_on_data(nrn_ca1,nrn_rsc)"
   ]
  },
  {
   "cell_type": "code",
   "execution_count": null,
   "metadata": {},
   "outputs": [],
   "source": [
    "#Canonical correlation of the first canonical covariates\n",
    "np.corrcoef(X_c[:,0],Y_c[:,0])[0,1]"
   ]
  },
  {
   "cell_type": "code",
   "execution_count": null,
   "metadata": {},
   "outputs": [],
   "source": [
    "#Canonical correlation of the second canonical covariates\n",
    "np.corrcoef(X_c[:,1],Y_c[:,1])[0,1]"
   ]
  },
  {
   "cell_type": "code",
   "execution_count": null,
   "metadata": {},
   "outputs": [],
   "source": []
  }
 ],
 "metadata": {
  "kernelspec": {
   "display_name": "Python 3 (ipykernel)",
   "language": "python",
   "name": "python3"
  },
  "language_info": {
   "codemirror_mode": {
    "name": "ipython",
    "version": 3
   },
   "file_extension": ".py",
   "mimetype": "text/x-python",
   "name": "python",
   "nbconvert_exporter": "python",
   "pygments_lexer": "ipython3",
   "version": "3.7.10"
  }
 },
 "nbformat": 4,
 "nbformat_minor": 4
}
